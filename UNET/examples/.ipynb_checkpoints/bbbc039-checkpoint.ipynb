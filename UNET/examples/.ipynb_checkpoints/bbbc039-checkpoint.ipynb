{
 "cells": [
  {
   "cell_type": "code",
   "execution_count": null,
   "id": "3984519a",
   "metadata": {},
   "outputs": [],
   "source": [
    "import argparse\n",
    "import collections\n",
    "import torch\n",
    "import json\n",
    "import numpy as np\n",
    "import UNET.data_loaders as data_loaders\n",
    "import UNET.train.loss as module_loss\n",
    "import UNET.train.metrics as module_metric\n",
    "import matplotlib.pyplot as plt\n",
    "import UNET.torch_models as module_arch\n",
    "from UNET.utils import ConfigParser\n",
    "from UNET.utils import prepare_device\n",
    "from UNET.train import UNETTrainer\n",
    "from torchsummary import summary\n"
   ]
  },
  {
   "cell_type": "code",
   "execution_count": null,
   "id": "1c363a83",
   "metadata": {},
   "outputs": [],
   "source": [
    "config_path = '/path/to/config/config.json'\n",
    "file = open(config_path)\n",
    "config = json.load(file)\n",
    "config = ConfigParser(config)"
   ]
  },
  {
   "cell_type": "code",
   "execution_count": null,
   "id": "22e8261e",
   "metadata": {},
   "outputs": [],
   "source": [
    "logger = config.get_logger('train')\n",
    "data_loader = config.init_obj('data_loader', data_loaders)\n",
    "valid_data_loader = data_loader.split_validation()\n",
    "model = config.init_obj('arch', module_arch)\n",
    "logger.info(model)\n",
    "\n",
    "n_gpu = 0\n",
    "device, device_ids = prepare_device(n_gpu)\n",
    "model = model.to(device)\n",
    "if len(device_ids) > 1:\n",
    "    model = torch.nn.DataParallel(model, device_ids=device_ids)\n",
    "\n",
    "criterion = getattr(module_loss, config['loss'])\n",
    "metrics = [getattr(module_metric, met) for met in config['metrics']]\n",
    "trainable_params = filter(lambda p: p.requires_grad, model.parameters())\n",
    "optimizer = config.init_obj('optimizer', torch.optim, trainable_params)\n",
    "lr_scheduler = config.init_obj('lr_scheduler', torch.optim.lr_scheduler, optimizer)\n",
    "\n",
    "trainer = UNETTrainer(model, criterion, metrics, optimizer,\n",
    "                      config=config,\n",
    "                      device=device,\n",
    "                      data_loader=data_loader,\n",
    "                      valid_data_loader=valid_data_loader,\n",
    "                      lr_scheduler=lr_scheduler)"
   ]
  },
  {
   "cell_type": "code",
   "execution_count": null,
   "id": "ad1c52e6",
   "metadata": {},
   "outputs": [],
   "source": [
    "trainer.train()"
   ]
  }
 ],
 "metadata": {
  "kernelspec": {
   "display_name": "Python 3 (ipykernel)",
   "language": "python",
   "name": "python3"
  },
  "language_info": {
   "codemirror_mode": {
    "name": "ipython",
    "version": 3
   },
   "file_extension": ".py",
   "mimetype": "text/x-python",
   "name": "python",
   "nbconvert_exporter": "python",
   "pygments_lexer": "ipython3",
   "version": "3.10.4"
  }
 },
 "nbformat": 4,
 "nbformat_minor": 5
}
